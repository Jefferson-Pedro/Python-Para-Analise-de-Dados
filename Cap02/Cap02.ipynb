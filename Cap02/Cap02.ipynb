{
  "nbformat": 4,
  "nbformat_minor": 0,
  "metadata": {
    "colab": {
      "provenance": [],
      "authorship_tag": "ABX9TyPUBFtjkDjnQJh/+821yjQX",
      "include_colab_link": true
    },
    "kernelspec": {
      "name": "python3",
      "display_name": "Python 3"
    },
    "language_info": {
      "name": "python"
    }
  },
  "cells": [
    {
      "cell_type": "markdown",
      "metadata": {
        "id": "view-in-github",
        "colab_type": "text"
      },
      "source": [
        "<a href=\"https://colab.research.google.com/github/Jefferson-Pedro/Python-Para-Analise-de-Dados/blob/main/Cap02.ipynb\" target=\"_parent\"><img src=\"https://colab.research.google.com/assets/colab-badge.svg\" alt=\"Open In Colab\"/></a>"
      ]
    },
    {
      "cell_type": "markdown",
      "source": [
        "## Exercício 1 - Imprima na tela os números de 1 a 10. Use uma lista para armazenar os números.\n"
      ],
      "metadata": {
        "id": "YEWlY74hZaJq"
      }
    },
    {
      "cell_type": "code",
      "execution_count": 12,
      "metadata": {
        "id": "_6p-sa6Cg9oi",
        "colab": {
          "base_uri": "https://localhost:8080/"
        },
        "outputId": "faff4f71-07b6-493b-ffe9-a2fc9ee0b7f4"
      },
      "outputs": [
        {
          "output_type": "stream",
          "name": "stdout",
          "text": [
            "1 2 3 4 5 6 7 8 9 10 \n",
            " [1, 2, 3, 4, 5, 6, 7, 8, 9, 10]\n"
          ]
        }
      ],
      "source": [
        "lista = []\n",
        "for n in range(1,11):\n",
        "  lista.append(n) \n",
        "  print(n, end=' ')\n",
        "print('\\n',lista)"
      ]
    },
    {
      "cell_type": "markdown",
      "source": [
        "## Exercício 2 - Crie uma lista de 5 objetos e imprima na tela"
      ],
      "metadata": {
        "id": "XQGFGaYUZYPr"
      }
    },
    {
      "cell_type": "code",
      "source": [
        "lista = ['obj1','obj2','obj3','obj4','obj5']\n",
        "print(lista)"
      ],
      "metadata": {
        "id": "PXZ_MN9NZg9_",
        "colab": {
          "base_uri": "https://localhost:8080/"
        },
        "outputId": "a87aadb2-e098-4766-db26-a0fac4a137f1"
      },
      "execution_count": 38,
      "outputs": [
        {
          "output_type": "stream",
          "name": "stdout",
          "text": [
            "['obj1', 'obj2', 'obj3', 'obj4', 'obj5']\n"
          ]
        }
      ]
    },
    {
      "cell_type": "markdown",
      "source": [
        "## Exercício 3 - Crie duas strings e concatene as duas em uma terceira string\n"
      ],
      "metadata": {
        "id": "JDaCkJ2-fWBI"
      }
    },
    {
      "cell_type": "code",
      "source": [
        "n = 'Jefferson'\n",
        "s = 'Pedro'\n",
        "nomeCompleto = n + ' ' + s\n",
        "print(nomeCompleto)"
      ],
      "metadata": {
        "colab": {
          "base_uri": "https://localhost:8080/"
        },
        "id": "WyDXCB1RUK7L",
        "outputId": "d1dea0c4-74f7-46ae-dce7-66f0e6eec9bb"
      },
      "execution_count": 29,
      "outputs": [
        {
          "output_type": "stream",
          "name": "stdout",
          "text": [
            "Jefferson Pedro\n"
          ]
        }
      ]
    },
    {
      "cell_type": "markdown",
      "source": [
        "## Exercício 4 - Crie uma tupla com os seguintes elementos: 1, 2, 2, 3, 4, 4, 4, 5 e depois utilize a função count do objeto tupla para verificar quantas vezes o número 4 aparece na tupla"
      ],
      "metadata": {
        "id": "hkzgs3QCfZ4K"
      }
    },
    {
      "cell_type": "code",
      "source": [
        "tupla = (1, 2, 2, 3, 4, 4, 4, 5)\n",
        "tupla.count(4)"
      ],
      "metadata": {
        "colab": {
          "base_uri": "https://localhost:8080/"
        },
        "id": "ixJFzbpOYEhj",
        "outputId": "ef91edd6-7a64-4a04-ac27-d52e3f25bdde"
      },
      "execution_count": 30,
      "outputs": [
        {
          "output_type": "execute_result",
          "data": {
            "text/plain": [
              "3"
            ]
          },
          "metadata": {},
          "execution_count": 30
        }
      ]
    },
    {
      "cell_type": "markdown",
      "source": [
        "## Exercício 5 - Crie um dicionário vazio e imprima na tela\n"
      ],
      "metadata": {
        "id": "rhcIS_1UfmPT"
      }
    },
    {
      "cell_type": "code",
      "source": [
        "dicionario = {}\n",
        "print(dicionario)"
      ],
      "metadata": {
        "colab": {
          "base_uri": "https://localhost:8080/"
        },
        "id": "FAdAXUXzYtMA",
        "outputId": "4d3d0dfc-c4b5-4bea-f1d8-04e134ae34ec"
      },
      "execution_count": 39,
      "outputs": [
        {
          "output_type": "stream",
          "name": "stdout",
          "text": [
            "{}\n"
          ]
        }
      ]
    },
    {
      "cell_type": "markdown",
      "source": [
        "## Exercício 6 - Crie um dicionário com 3 chaves e 3 valores e imprima na tela\n"
      ],
      "metadata": {
        "id": "vkQuyWNmfo6o"
      }
    },
    {
      "cell_type": "code",
      "source": [
        "dicionario = {'Valor1': 1, 'Valor2':2, 'Valor3':3}\n",
        "print(dicionario)"
      ],
      "metadata": {
        "colab": {
          "base_uri": "https://localhost:8080/"
        },
        "id": "5yKUBB9QY2I9",
        "outputId": "b21ede1d-28ac-4b55-f9fd-dbff72c15302"
      },
      "execution_count": 32,
      "outputs": [
        {
          "output_type": "stream",
          "name": "stdout",
          "text": [
            "{'Valor1': 1, 'Valor2': 2, 'Valor3': 3}\n"
          ]
        }
      ]
    },
    {
      "cell_type": "markdown",
      "source": [
        "## Exercício 7 - Adicione mais um elemento ao dicionário criado no exercício anterior e imprima na tela\n"
      ],
      "metadata": {
        "id": "_J6wqIoYfrKB"
      }
    },
    {
      "cell_type": "code",
      "source": [
        "dicionario['Valor4'] = 4\n",
        "print(dicionario)"
      ],
      "metadata": {
        "colab": {
          "base_uri": "https://localhost:8080/"
        },
        "id": "GDzhlj-QZJ3A",
        "outputId": "082c54f0-4b00-4622-8b12-a286e67817d3"
      },
      "execution_count": 33,
      "outputs": [
        {
          "output_type": "stream",
          "name": "stdout",
          "text": [
            "{'Valor1': 1, 'Valor2': 2, 'Valor3': 3, 'Valor4': 4}\n"
          ]
        }
      ]
    },
    {
      "cell_type": "markdown",
      "source": [
        "## Exercício 8 - Crie um dicionário com 3 chaves e 3 valores. Um dos valores deve ser uma lista de 2 elementos numéricos. Imprima o dicionário na tela."
      ],
      "metadata": {
        "id": "pyLWlHVUftzJ"
      }
    },
    {
      "cell_type": "code",
      "source": [
        "dicionario = {'Valor1': 1, 'Valor2':2, 'Valor3':[3,4]}\n",
        "print(dicionario)"
      ],
      "metadata": {
        "colab": {
          "base_uri": "https://localhost:8080/"
        },
        "id": "9ZtxRMzcZfpw",
        "outputId": "9fe9f603-bef8-42bf-ab09-0540ffc99370"
      },
      "execution_count": 34,
      "outputs": [
        {
          "output_type": "stream",
          "name": "stdout",
          "text": [
            "{'Valor1': 1, 'Valor2': 2, 'Valor3': [3, 4]}\n"
          ]
        }
      ]
    },
    {
      "cell_type": "markdown",
      "source": [
        "## Exercício 9 - Crie uma lista de 4 elementos. O primeiro elemento deve ser uma string, o segundo uma tupla de 2 elementos, o terceiro um dcionário com 2 chaves e 2 valores e o quarto elemento um valor do tipo float. Imprima a lista na tela."
      ],
      "metadata": {
        "id": "gHxoSYULfyc3"
      }
    },
    {
      "cell_type": "code",
      "source": [
        "lista = ['String',('Dois', 'Elementos'),{'Valor1': 1, 'Valor2':2},4.5]\n",
        "print(lista)"
      ],
      "metadata": {
        "colab": {
          "base_uri": "https://localhost:8080/"
        },
        "id": "4ZwWxjnVZsmQ",
        "outputId": "42f64b8d-0ea2-4a0e-c703-7dedd95a97db"
      },
      "execution_count": 35,
      "outputs": [
        {
          "output_type": "stream",
          "name": "stdout",
          "text": [
            "['String', ('Dois', 'Elementos'), {'Valor1': 1, 'Valor2': 2}, 4.5]\n"
          ]
        }
      ]
    },
    {
      "cell_type": "markdown",
      "source": [
        "## Exercício 10 - Considere a string abaixo. Imprima na tela apenas os caracteres da posição 1 a 18.\n",
        "frase = 'Cientista de Dados é o profissional mais sexy do século XXI'"
      ],
      "metadata": {
        "id": "mpYVbDhYf4uX"
      }
    },
    {
      "cell_type": "code",
      "source": [
        "frase = 'Cientista de Dados é o profissional mais sexy do século XXI'\n",
        "print(frase[0:18])"
      ],
      "metadata": {
        "colab": {
          "base_uri": "https://localhost:8080/"
        },
        "id": "m8VVAyqcaFcJ",
        "outputId": "7a55e09b-af3d-43ac-8e7a-9c0546f76303"
      },
      "execution_count": 37,
      "outputs": [
        {
          "output_type": "stream",
          "name": "stdout",
          "text": [
            "Cientista de Dados\n"
          ]
        }
      ]
    }
  ]
}